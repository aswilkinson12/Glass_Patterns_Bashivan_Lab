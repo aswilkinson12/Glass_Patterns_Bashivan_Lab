{
 "cells": [
  {
   "cell_type": "code",
   "execution_count": 1,
   "metadata": {},
   "outputs": [
    {
     "name": "stdout",
     "output_type": "stream",
     "text": [
      "Using cpu for inference\n"
     ]
    }
   ],
   "source": [
    "import json\n",
    "import torch\n",
    "from PIL import Image\n",
    "import torchvision.transforms as transforms\n",
    "import numpy as np\n",
    "import json\n",
    "import requests\n",
    "import matplotlib.pyplot as plt\n",
    "import warnings\n",
    "warnings.filterwarnings('ignore')\n",
    "%matplotlib inline\n",
    "\n",
    "device = torch.device('cuda') if torch.cuda.is_available() else torch.device('cpu')\n",
    "print(f'Using {device} for inference')\n"
   ]
  },
  {
   "cell_type": "code",
   "execution_count": 2,
   "metadata": {},
   "outputs": [
    {
     "name": "stdout",
     "output_type": "stream",
     "text": [
      "c:\\Users\\aswil\\anaconda3\\envs\\glass_dots\\python.exe\n"
     ]
    }
   ],
   "source": [
    "import sys\n",
    "print(sys.executable)"
   ]
  },
  {
   "cell_type": "code",
   "execution_count": 3,
   "metadata": {},
   "outputs": [],
   "source": [
    "import argparse\n",
    "import os\n",
    "import torch \n",
    "import numpy as np\n",
    "import torchvision\n",
    "import torch.nn as nn\n",
    "from torchvision.utils import save_image\n",
    "import matplotlib.pyplot as plt\n",
    "import torchvision.datasets as datasets\n",
    "import torchvision.transforms as transforms\n",
    "from torch.utils.data.dataloader import DataLoader\n",
    "from torch.nn.modules.utils import _pair\n",
    "import torch.nn.functional as F\n",
    "from statistics import mean\n",
    "from torch.utils.tensorboard import SummaryWriter\n",
    "from pathlib import Path\n",
    "from PIL import Image\n",
    "import gc\n",
    "import h5py\n",
    "import glob\n",
    "from sklearn.model_selection import KFold\n",
    "from sklearn.linear_model import Ridge\n",
    "from sklearn.linear_model import LinearRegression\n",
    "from scipy.stats.stats import pearsonr\n",
    "from sklearn.decomposition import PCA"
   ]
  },
  {
   "cell_type": "code",
   "execution_count": 4,
   "metadata": {},
   "outputs": [],
   "source": [
    "from torchvision.models import resnet50, ResNet50_Weights\n",
    "\n",
    "# Using pretrained weights:\n",
    "resnet = resnet50(weights=\"IMAGENET1K_V1\")\n",
    "\n",
    "resnet.eval().to(device)\n",
    "image_type = {}"
   ]
  },
  {
   "cell_type": "code",
   "execution_count": 5,
   "metadata": {},
   "outputs": [],
   "source": [
    "# for name, module in resnet.named_modules():\n",
    "#     print(name)"
   ]
  },
  {
   "cell_type": "code",
   "execution_count": 6,
   "metadata": {},
   "outputs": [],
   "source": [
    "def open_images(dir):\n",
    "    ''' \n",
    "    (int, dict) -> NoneType\n",
    "    \n",
    "    Preprocess the data images and put them in a dictionary\n",
    "    '''\n",
    "    images = []\n",
    "    \n",
    "    for i in range (1, 501):\n",
    "        #concentric\n",
    "        #   image_type[i] = 0\n",
    "        #\n",
    "        #\n",
    "        original_path = fr\"C:\\Users\\aswil\\Desktop\\College\\Internships\\Bashivan_Lab\\Projects\\glass_dots\\filler\\{i}.jpg\"\n",
    "        image = original_path.replace(\"filler\", dir)\n",
    "        #Adjust for your system\n",
    "        image_type[i] = 1\n",
    "        with open(image, 'rb') as file:\n",
    "            #print(image)\n",
    "\n",
    "\n",
    "            img = Image.open(image).resize((224, 224))\n",
    "    \n",
    "            img_norm = np.array(img, dtype=np.float32) / 255.\n",
    "        \n",
    "            img_norm = (img_norm - [0.485, 0.456, 0.406]) / [0.229, 0.224, 0.225]\n",
    "            \n",
    "            images.append(np.transpose(img_norm, (2, 0, 1)))\n",
    "        \n",
    "             \n",
    "    return images\n",
    "    "
   ]
  },
  {
   "cell_type": "code",
   "execution_count": 7,
   "metadata": {},
   "outputs": [
    {
     "name": "stdout",
     "output_type": "stream",
     "text": [
      "{}\n"
     ]
    }
   ],
   "source": [
    "#number_imgs = len(images_np)\n",
    "print(image_type)\n"
   ]
  },
  {
   "cell_type": "code",
   "execution_count": 8,
   "metadata": {},
   "outputs": [],
   "source": [
    "def get_activation(name, activation):        \n",
    "    def hook(model, input, output):\n",
    "        activation[name] = output.detach()\n",
    "    return hook"
   ]
  },
  {
   "cell_type": "code",
   "execution_count": 9,
   "metadata": {},
   "outputs": [],
   "source": [
    "def get_activation_list(model, data_loader):\n",
    "    all_activation = {}\n",
    "    \n",
    "    for i, data in enumerate(data_loader):\n",
    "        _ = model(data.to(device))\n",
    "        if len(all_activation) == 0: \n",
    "            for k in activation.keys(): \n",
    "                all_activation[k] = activation[k].cpu().numpy()\n",
    "        else: \n",
    "            for k in activation.keys():\n",
    "                all_activation[k] = np.concatenate([all_activation[k], activation[k].cpu().numpy()])\n",
    "    \n",
    "    return all_activation"
   ]
  },
  {
   "cell_type": "code",
   "execution_count": 10,
   "metadata": {},
   "outputs": [],
   "source": [
    "activation = {}\n",
    "def run(dir):\n",
    "    images_np = np.array(open_images(dir), dtype=np.float32)\n",
    "    dataloader = torch.utils.data.DataLoader(torch.from_numpy(images_np), batch_size=20, shuffle=False)\n",
    "    model_layer_names = [\"layer4.2\", \"avgpool\"]\n",
    "    x = 1\n",
    "\n",
    "    for name, module in resnet.named_modules():\n",
    "        if name in model_layer_names:\n",
    "            #print(name)\n",
    "            module.register_forward_hook(get_activation(name, activation))\n",
    "    b = get_activation_list(resnet, dataloader)\n",
    "\n",
    "    #print(b.keys())\n",
    "    # print(all_activations[\"layer4.2\"].shape)\n",
    "    #print(b[\"avgpool\"].shape)\n",
    "    return b[\"avgpool\"]\n",
    "#a = run(\"starburst_3repeats_200dots\")"
   ]
  },
  {
   "cell_type": "code",
   "execution_count": 11,
   "metadata": {},
   "outputs": [],
   "source": [
    "# star = run(\"4r_200d_starburst\")\n",
    "# conc = run(\"4r_200d_concentric\")\n",
    "# hyper = run(\"4r_200d_hyperbolic\")\n",
    "# spiral = run(\"4r_200d_spiral\")\n",
    "\n"
   ]
  },
  {
   "cell_type": "code",
   "execution_count": 12,
   "metadata": {},
   "outputs": [],
   "source": [
    "# output = np.concatenate((star, conc, hyper, spiral), axis=0)\n",
    "# # output = np.concatenate((star, conc), axis=0)\n",
    "# print(output.shape)"
   ]
  },
  {
   "cell_type": "code",
   "execution_count": 14,
   "metadata": {},
   "outputs": [
    {
     "name": "stdout",
     "output_type": "stream",
     "text": [
      "[0 0 0 ... 3 3 3]\n",
      "2000\n"
     ]
    }
   ],
   "source": [
    "labels = np.array([])\n",
    "a = [0] * 500\n",
    "b = [1] * 500\n",
    "c = [2] * 500\n",
    "d = [3] * 500\n",
    "for i in range (4):\n",
    "    for j in range (500):\n",
    "        break\n",
    "\n",
    "labels = np.append([a, b], [c, d])\n",
    "print(labels)\n",
    "print(len(labels))"
   ]
  },
  {
   "cell_type": "code",
   "execution_count": null,
   "metadata": {},
   "outputs": [
    {
     "ename": "KeyboardInterrupt",
     "evalue": "",
     "output_type": "error",
     "traceback": [
      "\u001b[1;31m---------------------------------------------------------------------------\u001b[0m",
      "\u001b[1;31mKeyboardInterrupt\u001b[0m                         Traceback (most recent call last)",
      "\u001b[1;32mc:\\Users\\aswil\\Desktop\\College\\Internships\\Bashivan_Lab\\Projects\\glass_dots\\RN50.ipynb Cell 14\u001b[0m line \u001b[0;36m1\n\u001b[1;32m----> <a href='vscode-notebook-cell:/c%3A/Users/aswil/Desktop/College/Internships/Bashivan_Lab/Projects/glass_dots/RN50.ipynb#X16sZmlsZQ%3D%3D?line=0'>1</a>\u001b[0m spiral \u001b[39m=\u001b[39m run(\u001b[39m\"\u001b[39;49m\u001b[39m3r_200d_spiral\u001b[39;49m\u001b[39m\"\u001b[39;49m)\n\u001b[0;32m      <a href='vscode-notebook-cell:/c%3A/Users/aswil/Desktop/College/Internships/Bashivan_Lab/Projects/glass_dots/RN50.ipynb#X16sZmlsZQ%3D%3D?line=1'>2</a>\u001b[0m conc \u001b[39m=\u001b[39m run(\u001b[39m\"\u001b[39m\u001b[39m3r_200d_concentric\u001b[39m\u001b[39m\"\u001b[39m)\n\u001b[0;32m      <a href='vscode-notebook-cell:/c%3A/Users/aswil/Desktop/College/Internships/Bashivan_Lab/Projects/glass_dots/RN50.ipynb#X16sZmlsZQ%3D%3D?line=2'>3</a>\u001b[0m test_output \u001b[39m=\u001b[39m np\u001b[39m.\u001b[39mconcatenate((spiral, conc), axis\u001b[39m=\u001b[39m\u001b[39m0\u001b[39m)\n",
      "\u001b[1;32mc:\\Users\\aswil\\Desktop\\College\\Internships\\Bashivan_Lab\\Projects\\glass_dots\\RN50.ipynb Cell 14\u001b[0m line \u001b[0;36m3\n\u001b[0;32m      <a href='vscode-notebook-cell:/c%3A/Users/aswil/Desktop/College/Internships/Bashivan_Lab/Projects/glass_dots/RN50.ipynb#X16sZmlsZQ%3D%3D?line=1'>2</a>\u001b[0m \u001b[39mdef\u001b[39;00m \u001b[39mrun\u001b[39m(\u001b[39mdir\u001b[39m):\n\u001b[1;32m----> <a href='vscode-notebook-cell:/c%3A/Users/aswil/Desktop/College/Internships/Bashivan_Lab/Projects/glass_dots/RN50.ipynb#X16sZmlsZQ%3D%3D?line=2'>3</a>\u001b[0m     images_np \u001b[39m=\u001b[39m np\u001b[39m.\u001b[39marray(open_images(\u001b[39mdir\u001b[39;49m), dtype\u001b[39m=\u001b[39mnp\u001b[39m.\u001b[39mfloat32)\n\u001b[0;32m      <a href='vscode-notebook-cell:/c%3A/Users/aswil/Desktop/College/Internships/Bashivan_Lab/Projects/glass_dots/RN50.ipynb#X16sZmlsZQ%3D%3D?line=3'>4</a>\u001b[0m     dataloader \u001b[39m=\u001b[39m torch\u001b[39m.\u001b[39mutils\u001b[39m.\u001b[39mdata\u001b[39m.\u001b[39mDataLoader(torch\u001b[39m.\u001b[39mfrom_numpy(images_np), batch_size\u001b[39m=\u001b[39m\u001b[39m20\u001b[39m, shuffle\u001b[39m=\u001b[39m\u001b[39mFalse\u001b[39;00m)\n\u001b[0;32m      <a href='vscode-notebook-cell:/c%3A/Users/aswil/Desktop/College/Internships/Bashivan_Lab/Projects/glass_dots/RN50.ipynb#X16sZmlsZQ%3D%3D?line=4'>5</a>\u001b[0m     model_layer_names \u001b[39m=\u001b[39m [\u001b[39m\"\u001b[39m\u001b[39mlayer4.2\u001b[39m\u001b[39m\"\u001b[39m, \u001b[39m\"\u001b[39m\u001b[39mavgpool\u001b[39m\u001b[39m\"\u001b[39m]\n",
      "\u001b[1;32mc:\\Users\\aswil\\Desktop\\College\\Internships\\Bashivan_Lab\\Projects\\glass_dots\\RN50.ipynb Cell 14\u001b[0m line \u001b[0;36m2\n\u001b[0;32m     <a href='vscode-notebook-cell:/c%3A/Users/aswil/Desktop/College/Internships/Bashivan_Lab/Projects/glass_dots/RN50.ipynb#X16sZmlsZQ%3D%3D?line=16'>17</a>\u001b[0m image_type[i] \u001b[39m=\u001b[39m \u001b[39m1\u001b[39m\n\u001b[0;32m     <a href='vscode-notebook-cell:/c%3A/Users/aswil/Desktop/College/Internships/Bashivan_Lab/Projects/glass_dots/RN50.ipynb#X16sZmlsZQ%3D%3D?line=17'>18</a>\u001b[0m \u001b[39mwith\u001b[39;00m \u001b[39mopen\u001b[39m(image, \u001b[39m'\u001b[39m\u001b[39mrb\u001b[39m\u001b[39m'\u001b[39m) \u001b[39mas\u001b[39;00m file:\n\u001b[0;32m     <a href='vscode-notebook-cell:/c%3A/Users/aswil/Desktop/College/Internships/Bashivan_Lab/Projects/glass_dots/RN50.ipynb#X16sZmlsZQ%3D%3D?line=18'>19</a>\u001b[0m     \u001b[39m#print(image)\u001b[39;00m\n\u001b[1;32m---> <a href='vscode-notebook-cell:/c%3A/Users/aswil/Desktop/College/Internships/Bashivan_Lab/Projects/glass_dots/RN50.ipynb#X16sZmlsZQ%3D%3D?line=21'>22</a>\u001b[0m     img \u001b[39m=\u001b[39m Image\u001b[39m.\u001b[39;49mopen(image)\u001b[39m.\u001b[39;49mresize((\u001b[39m224\u001b[39;49m, \u001b[39m224\u001b[39;49m))\n\u001b[0;32m     <a href='vscode-notebook-cell:/c%3A/Users/aswil/Desktop/College/Internships/Bashivan_Lab/Projects/glass_dots/RN50.ipynb#X16sZmlsZQ%3D%3D?line=23'>24</a>\u001b[0m     img_norm \u001b[39m=\u001b[39m np\u001b[39m.\u001b[39marray(img, dtype\u001b[39m=\u001b[39mnp\u001b[39m.\u001b[39mfloat32) \u001b[39m/\u001b[39m \u001b[39m255.\u001b[39m\n\u001b[0;32m     <a href='vscode-notebook-cell:/c%3A/Users/aswil/Desktop/College/Internships/Bashivan_Lab/Projects/glass_dots/RN50.ipynb#X16sZmlsZQ%3D%3D?line=25'>26</a>\u001b[0m     img_norm \u001b[39m=\u001b[39m (img_norm \u001b[39m-\u001b[39m [\u001b[39m0.485\u001b[39m, \u001b[39m0.456\u001b[39m, \u001b[39m0.406\u001b[39m]) \u001b[39m/\u001b[39m [\u001b[39m0.229\u001b[39m, \u001b[39m0.224\u001b[39m, \u001b[39m0.225\u001b[39m]\n",
      "File \u001b[1;32mc:\\Users\\aswil\\anaconda3\\envs\\glass_dots\\lib\\site-packages\\PIL\\Image.py:2199\u001b[0m, in \u001b[0;36mImage.resize\u001b[1;34m(self, size, resample, box, reducing_gap)\u001b[0m\n\u001b[0;32m   2191\u001b[0m             \u001b[39mself\u001b[39m \u001b[39m=\u001b[39m Image\u001b[39m.\u001b[39mreduce(\u001b[39mself\u001b[39m, factor, box\u001b[39m=\u001b[39mreduce_box)\n\u001b[0;32m   2192\u001b[0m         box \u001b[39m=\u001b[39m (\n\u001b[0;32m   2193\u001b[0m             (box[\u001b[39m0\u001b[39m] \u001b[39m-\u001b[39m reduce_box[\u001b[39m0\u001b[39m]) \u001b[39m/\u001b[39m factor_x,\n\u001b[0;32m   2194\u001b[0m             (box[\u001b[39m1\u001b[39m] \u001b[39m-\u001b[39m reduce_box[\u001b[39m1\u001b[39m]) \u001b[39m/\u001b[39m factor_y,\n\u001b[0;32m   2195\u001b[0m             (box[\u001b[39m2\u001b[39m] \u001b[39m-\u001b[39m reduce_box[\u001b[39m0\u001b[39m]) \u001b[39m/\u001b[39m factor_x,\n\u001b[0;32m   2196\u001b[0m             (box[\u001b[39m3\u001b[39m] \u001b[39m-\u001b[39m reduce_box[\u001b[39m1\u001b[39m]) \u001b[39m/\u001b[39m factor_y,\n\u001b[0;32m   2197\u001b[0m         )\n\u001b[1;32m-> 2199\u001b[0m \u001b[39mreturn\u001b[39;00m \u001b[39mself\u001b[39m\u001b[39m.\u001b[39m_new(\u001b[39mself\u001b[39;49m\u001b[39m.\u001b[39;49mim\u001b[39m.\u001b[39;49mresize(size, resample, box))\n",
      "\u001b[1;31mKeyboardInterrupt\u001b[0m: "
     ]
    }
   ],
   "source": [
    "# spiral = run(\"3r_200d_spiral\")\n",
    "# conc = run(\"3r_200d_concentric\")\n",
    "# test_output = np.concatenate((spiral, conc), axis=0)\n",
    "# test_labels = np.array([])\n",
    "# labels = np.array([])\n",
    "# test_labels = np.append(a, b)\n"
   ]
  },
  {
   "cell_type": "code",
   "execution_count": 15,
   "metadata": {},
   "outputs": [
    {
     "name": "stdout",
     "output_type": "stream",
     "text": [
      "[0 0 0 ... 3 3 3]\n"
     ]
    }
   ],
   "source": [
    "# print(test_labels)\n",
    "print(labels)"
   ]
  },
  {
   "cell_type": "code",
   "execution_count": null,
   "metadata": {},
   "outputs": [
    {
     "name": "stdout",
     "output_type": "stream",
     "text": [
      "2000\n",
      "2000\n",
      "[0 0 0 ... 3 3 3]\n"
     ]
    }
   ],
   "source": [
    "# output = np.squeeze(output)\n",
    "# test_output = np.squeeze(test_output)\n",
    "# print(len(output))\n",
    "# print(len(labels))\n",
    "# print(labels)"
   ]
  },
  {
   "cell_type": "code",
   "execution_count": null,
   "metadata": {},
   "outputs": [
    {
     "ename": "NameError",
     "evalue": "name 'output' is not defined",
     "output_type": "error",
     "traceback": [
      "\u001b[1;31m---------------------------------------------------------------------------\u001b[0m",
      "\u001b[1;31mNameError\u001b[0m                                 Traceback (most recent call last)",
      "Cell \u001b[1;32mIn[15], line 6\u001b[0m\n\u001b[0;32m      2\u001b[0m \u001b[38;5;28;01mfrom\u001b[39;00m \u001b[38;5;21;01msklearn\u001b[39;00m \u001b[38;5;28;01mimport\u001b[39;00m svm\n\u001b[0;32m      3\u001b[0m \u001b[38;5;28;01mfrom\u001b[39;00m \u001b[38;5;21;01msklearn\u001b[39;00m \u001b[38;5;28;01mimport\u001b[39;00m metrics\n\u001b[1;32m----> 6\u001b[0m X_train, X_test, y_train, y_test \u001b[38;5;241m=\u001b[39m train_test_split(\u001b[43moutput\u001b[49m, labels, test_size\u001b[38;5;241m=\u001b[39m\u001b[38;5;241m0.99\u001b[39m,random_state\u001b[38;5;241m=\u001b[39m\u001b[38;5;241m109\u001b[39m)\n\u001b[0;32m      7\u001b[0m \u001b[38;5;28mprint\u001b[39m(\u001b[38;5;28mlen\u001b[39m(X_train))\n\u001b[0;32m      8\u001b[0m \u001b[38;5;28mprint\u001b[39m(\u001b[38;5;28mlen\u001b[39m(X_test))\n",
      "\u001b[1;31mNameError\u001b[0m: name 'output' is not defined"
     ]
    }
   ],
   "source": [
    "from sklearn.model_selection import train_test_split\n",
    "from sklearn import svm\n",
    "from sklearn import metrics\n",
    "\n",
    "\n",
    "X_train, X_test, y_train, y_test = train_test_split(output, labels, test_size=0.99,random_state=109)\n",
    "print(len(X_train))\n",
    "print(len(X_test))\n",
    "print(len(y_train))\n",
    "print(len(y_test))\n",
    "\n",
    "clf = svm.SVC(kernel='linear') # Linear Kernel\n",
    "\n",
    "clf.fit(X_train, y_train)\n",
    "\n",
    "y_pred = clf.predict(X_test)\n",
    "\n",
    "print(\"Accuracy:\",metrics.accuracy_score(y_test, y_pred))\n",
    "\n",
    "print(\"Precision:\",metrics.precision_score(y_test, y_pred))\n",
    "\n",
    "print(\"Recall:\",metrics.recall_score(y_test, y_pred))\n"
   ]
  },
  {
   "cell_type": "code",
   "execution_count": 16,
   "metadata": {},
   "outputs": [],
   "source": [
    "import numpy as np \n",
    "from sklearn.datasets import load_iris\n",
    "from sklearn.model_selection import KFold\n",
    "from sklearn.svm import SVC\n",
    "# print(output.shape)\n",
    "# Y = labels\n",
    "# print(labels.shape)\n",
    "def kfold(output, labels):\n",
    "    N_FOLDS = 5\n",
    "\n",
    "    kf = KFold(n_splits=N_FOLDS,shuffle=True)\n",
    "    clf = SVC(kernel='linear')\n",
    "    preds = np.zeros_like(labels)\n",
    "    for train_index, test_index in kf.split(output):\n",
    "        clf.fit(output[train_index], labels[train_index])\n",
    "        preds[test_index] = clf.predict(output[test_index])\n",
    "    print(f\"Accuracy: {100*np.sum(preds == labels)/preds.size:.2f}%\")\n",
    "    return(100*np.sum(preds == labels)/preds.size)\n",
    "# kfold(output, labels)"
   ]
  },
  {
   "cell_type": "code",
   "execution_count": 18,
   "metadata": {},
   "outputs": [
    {
     "name": "stdout",
     "output_type": "stream",
     "text": [
      "(2000, 2048)\n",
      "Accuracy: 98.50%\n",
      "(2000, 2048)\n",
      "Accuracy: 99.15%\n",
      "[98.5, 99.15]\n"
     ]
    }
   ],
   "source": [
    "results = []\n",
    "for i in range(3,5):\n",
    "    num = i\n",
    "    # path = str(num) + \"r_200d_\"\n",
    "    starburst = run(str(num) + \"r_50d_starburst\")\n",
    "    concentric = run(str(num) + \"r_50d_concentric\")\n",
    "    hyperbolic = run(str(num) + \"r_50d_hyperbolic\")\n",
    "    spiral = run(str(num) + \"r_50d_spiral\")\n",
    "    output = np.squeeze(np.concatenate((starburst, concentric, hyperbolic, spiral), axis=0))\n",
    "    print(output.shape)\n",
    "    ans = kfold(output, labels)\n",
    "    results.append(ans)\n",
    "print(results) \n",
    "    \n",
    "    "
   ]
  },
  {
   "cell_type": "code",
   "execution_count": 19,
   "metadata": {},
   "outputs": [
    {
     "name": "stdout",
     "output_type": "stream",
     "text": [
      "(2000, 2048)\n",
      "Accuracy: 98.55%\n",
      "(2000, 2048)\n",
      "Accuracy: 98.50%\n",
      "(2000, 2048)\n",
      "Accuracy: 98.00%\n",
      "[98.55, 98.5, 98.0]\n"
     ]
    }
   ],
   "source": [
    "fade_results = []\n",
    "for i in range(3):\n",
    "    if i == 0:\n",
    "        fade = \"lightfade\"\n",
    "    elif i == 1:\n",
    "        fade = \"midfade\"\n",
    "    else:\n",
    "        fade = \"heavyfade\"\n",
    "    # path = str(num) + \"r_200d_\"\n",
    "    starburst = run(\"3r_50d_starburst_\"+ fade)\n",
    "    concentric = run(\"3r_50d_concentric_\" + fade)\n",
    "    hyperbolic = run(\"3r_50d_hyperbolic_\" + fade)\n",
    "    spiral = run(\"3r_50d_spiral_\" + fade)\n",
    "    output = np.squeeze(np.concatenate((starburst, concentric, hyperbolic, spiral), axis=0))\n",
    "    print(output.shape)\n",
    "    ans = kfold(output, labels)\n",
    "    fade_results.append(ans)\n",
    "print(fade_results)"
   ]
  },
  {
   "cell_type": "code",
   "execution_count": 17,
   "metadata": {},
   "outputs": [
    {
     "name": "stdout",
     "output_type": "stream",
     "text": [
      "(2000, 2048)\n",
      "Accuracy: 97.30%\n",
      "(2000, 2048)\n",
      "Accuracy: 98.15%\n",
      "(2000, 2048)\n",
      "Accuracy: 97.55%\n",
      "[97.3, 98.15, 97.55]\n"
     ]
    }
   ],
   "source": [
    "distraction_results = []\n",
    "for i in range(3):\n",
    "    if i == 0:\n",
    "        dist = \"50dist\"\n",
    "    elif i == 1:\n",
    "        dist = \"100dist\"\n",
    "    else:\n",
    "        dist = \"200dist\"\n",
    "    # path = str(num) + \"r_200d_\"\n",
    "    starburst = run(\"3r_50d_starburst_\"+ dist)\n",
    "    concentric = run(\"3r_50d_concentric_\" + dist)\n",
    "    hyperbolic = run(\"3r_50d_hyperbolic_\" + dist)\n",
    "    spiral = run(\"3r_50d_spiral_\" + dist)\n",
    "    output = np.squeeze(np.concatenate((starburst, concentric, hyperbolic, spiral), axis=0))\n",
    "    print(output.shape)\n",
    "    ans = kfold(output, labels)\n",
    "    distraction_results.append(ans)\n",
    "print(distraction_results)"
   ]
  },
  {
   "cell_type": "code",
   "execution_count": 18,
   "metadata": {},
   "outputs": [],
   "source": [
    "distraction_res2 = []\n",
    "# for i in range(3):\n",
    "#     if i == 0:\n",
    "#         dist = \"50dist\"\n",
    "#     elif i == 1:\n",
    "#         dist = \"100dist\"\n",
    "#     else:\n",
    "dist = \"200dist\"\n",
    "# path = str(num) + \"r_200d_\"\n",
    "starburst = run(\"2r_50d_starburst_\"+ dist)\n",
    "concentric = run(\"2r_50d_concentric_\" + dist)\n",
    "hyperbolic = run(\"2r_50d_hyperbolic_\" + dist)\n",
    "spiral = run(\"2r_50d_spiral_\" + dist)\n",
    "output = np.squeeze(np.concatenate((starburst, concentric, hyperbolic, spiral), axis=0))\n",
    "print(output.shape)\n",
    "ans = kfold(output, labels)\n",
    "distraction_results.append(ans)\n",
    "print(distraction_res2)"
   ]
  },
  {
   "cell_type": "code",
   "execution_count": null,
   "metadata": {},
   "outputs": [],
   "source": []
  },
  {
   "cell_type": "code",
   "execution_count": 58,
   "metadata": {},
   "outputs": [
    {
     "name": "stdout",
     "output_type": "stream",
     "text": [
      "layer4.2\n",
      "avgpool\n",
      "dict_keys(['layer4.2', 'avgpool'])\n",
      "(100, 2048, 1, 1)\n",
      "layer4.2\n",
      "avgpool\n",
      "dict_keys(['layer4.2', 'avgpool'])\n",
      "(100, 2048, 1, 1)\n",
      "(100, 4096, 1, 1)\n",
      "[[0.01813324]]\n",
      "[[0.02748377]]\n",
      "[[0.01813324]]\n",
      "[[0.02748377]]\n"
     ]
    }
   ],
   "source": [
    "a = run(\"starburst_3repeats_200dots\")\n",
    "b = run(\"starburst_5repeats_200dots\")\n",
    "c = np.concatenate((a, b), axis=1)\n",
    "print(c.shape)\n",
    "print(a[1][0])\n",
    "print(b[1][0])\n",
    "# print(\"END\")\n",
    "# print(b)\n",
    "# print(\"END\")\n",
    "print(c[1][0])\n",
    "print(c[1][2048])\n",
    "# print(a)\n",
    "# np.reshape(b, (20, -1))\n",
    "# print (b.shape)"
   ]
  },
  {
   "cell_type": "code",
   "execution_count": 83,
   "metadata": {},
   "outputs": [
    {
     "name": "stdout",
     "output_type": "stream",
     "text": [
      "(100, 2048, 7, 7)\n"
     ]
    }
   ],
   "source": [
    "a = run(\"starburst_3repeats_200dots\")\n",
    "b = run(\"starburst_5repeats_200dots\")\n",
    "a.reshape(100, 100352)\n",
    "print(a.shape)"
   ]
  },
  {
   "cell_type": "code",
   "execution_count": 12,
   "metadata": {},
   "outputs": [],
   "source": [
    "for layer in [\"layer1.0\", \"layer1.1\", \"layer1.2\", \"layer2.0\", \"layer2.1\", \"layer2.2\", \"layer2.3\", \"layer3.0\", \"layer3.1\", \"layer3.2\", \"layer3.3\", \"layer3.4\", \"layer3.5\", \"layer4.0\", \"layer4.1\", \"layer4.2\"]:\n",
    "    act_now = all_activations[layer]"
   ]
  },
  {
   "cell_type": "code",
   "execution_count": 13,
   "metadata": {},
   "outputs": [
    {
     "ename": "KeyError",
     "evalue": "'layers.0.0'",
     "output_type": "error",
     "traceback": [
      "\u001b[1;31m---------------------------------------------------------------------------\u001b[0m",
      "\u001b[1;31mKeyError\u001b[0m                                  Traceback (most recent call last)",
      "\u001b[1;32m~\\AppData\\Local\\Temp\\ipykernel_49076\\608631538.py\u001b[0m in \u001b[0;36m<cell line: 3>\u001b[1;34m()\u001b[0m\n\u001b[0;32m      2\u001b[0m \u001b[0mPCA_activations\u001b[0m\u001b[1;33m=\u001b[0m\u001b[1;33m{\u001b[0m\u001b[1;33m}\u001b[0m\u001b[1;33m\u001b[0m\u001b[1;33m\u001b[0m\u001b[0m\n\u001b[0;32m      3\u001b[0m \u001b[1;32mfor\u001b[0m \u001b[0mlayer\u001b[0m \u001b[1;32min\u001b[0m \u001b[1;33m[\u001b[0m\u001b[1;34m\"layers.0.0\"\u001b[0m\u001b[1;33m,\u001b[0m \u001b[1;34m\"layers.0.1\"\u001b[0m\u001b[1;33m,\u001b[0m \u001b[1;34m\"layers.0.2\"\u001b[0m\u001b[1;33m,\u001b[0m \u001b[1;34m\"layers.1.0\"\u001b[0m\u001b[1;33m,\u001b[0m \u001b[1;34m\"layers.1.1\"\u001b[0m\u001b[1;33m,\u001b[0m \u001b[1;34m\"layers.1.2\"\u001b[0m\u001b[1;33m,\u001b[0m \u001b[1;34m\"layers.1.3\"\u001b[0m\u001b[1;33m,\u001b[0m \u001b[1;34m\"layers.2.0\"\u001b[0m\u001b[1;33m,\u001b[0m \u001b[1;34m\"layers.2.1\"\u001b[0m\u001b[1;33m,\u001b[0m \u001b[1;34m\"layers.2.2\"\u001b[0m\u001b[1;33m,\u001b[0m \u001b[1;34m\"layers.2.3\"\u001b[0m\u001b[1;33m,\u001b[0m \u001b[1;34m\"layers.2.4\"\u001b[0m\u001b[1;33m,\u001b[0m \u001b[1;34m\"layers.2.5\"\u001b[0m\u001b[1;33m,\u001b[0m \u001b[1;34m\"layers.3.0\"\u001b[0m\u001b[1;33m,\u001b[0m \u001b[1;34m\"layers.3.1\"\u001b[0m\u001b[1;33m,\u001b[0m \u001b[1;34m\"layers.3.2\"\u001b[0m\u001b[1;33m]\u001b[0m\u001b[1;33m:\u001b[0m\u001b[1;33m\u001b[0m\u001b[1;33m\u001b[0m\u001b[0m\n\u001b[1;32m----> 4\u001b[1;33m     \u001b[0mact_now\u001b[0m \u001b[1;33m=\u001b[0m \u001b[0mall_activations\u001b[0m\u001b[1;33m[\u001b[0m\u001b[0mlayer\u001b[0m\u001b[1;33m]\u001b[0m\u001b[1;33m\u001b[0m\u001b[1;33m\u001b[0m\u001b[0m\n\u001b[0m\u001b[0;32m      5\u001b[0m     \u001b[0mpca\u001b[0m\u001b[1;33m=\u001b[0m\u001b[0mPCA\u001b[0m\u001b[1;33m(\u001b[0m\u001b[0mrandom_state\u001b[0m\u001b[1;33m=\u001b[0m\u001b[0mseed\u001b[0m\u001b[1;33m)\u001b[0m\u001b[1;33m\u001b[0m\u001b[1;33m\u001b[0m\u001b[0m\n\u001b[0;32m      6\u001b[0m     \u001b[0mpcaact_now\u001b[0m \u001b[1;33m=\u001b[0m \u001b[0mpca\u001b[0m\u001b[1;33m.\u001b[0m\u001b[0mfit_transform\u001b[0m\u001b[1;33m(\u001b[0m\u001b[0mact_now\u001b[0m\u001b[1;33m.\u001b[0m\u001b[0mreshape\u001b[0m\u001b[1;33m(\u001b[0m\u001b[0mact_now\u001b[0m\u001b[1;33m.\u001b[0m\u001b[0mshape\u001b[0m\u001b[1;33m[\u001b[0m\u001b[1;36m0\u001b[0m\u001b[1;33m]\u001b[0m\u001b[1;33m,\u001b[0m\u001b[1;33m-\u001b[0m\u001b[1;36m1\u001b[0m\u001b[1;33m)\u001b[0m\u001b[1;33m)\u001b[0m\u001b[1;33m\u001b[0m\u001b[1;33m\u001b[0m\u001b[0m\n",
      "\u001b[1;31mKeyError\u001b[0m: 'layers.0.0'"
     ]
    }
   ],
   "source": [
    "seed=10\n",
    "PCA_activations={}\n",
    "for layer in [\"layers.0.0\", \"layers.0.1\", \"layers.0.2\", \"layers.1.0\", \"layers.1.1\", \"layers.1.2\", \"layers.1.3\", \"layers.2.0\", \"layers.2.1\", \"layers.2.2\", \"layers.2.3\", \"layers.2.4\", \"layers.2.5\", \"layers.3.0\", \"layers.3.1\", \"layers.3.2\"]:\n",
    "    act_now = all_activations[layer]\n",
    "    pca=PCA(random_state=seed)\n",
    "    pcaact_now = pca.fit_transform(act_now.reshape(act_now.shape[0],-1))\n",
    "    PCA_activations[layer] = pcaact_now\n",
    "print(PCA_activations.keys())"
   ]
  },
  {
   "cell_type": "code",
   "execution_count": null,
   "metadata": {},
   "outputs": [],
   "source": [
    "#for i, (comp, var) in enumerate(zip(pca.components_, pca.explained_variance_)):\n",
    "#    comp = comp * var  # scale component by its variance explanation power\n",
    "#    plt.plot(\n",
    "#        [0, comp[0]],\n",
    "#        [0, comp[1]],\n",
    " #       label=f\"Component {i}\",\n",
    "  #      linewidth=2,\n",
    "   #     color=f\"C{i + 2}\",\n",
    "    #)\n",
    "#plt.gca().set(\n",
    "#    aspect=\"equal\",\n",
    "#    title=\"2-dimensional dataset with principal components\",\n",
    "#    xlabel=\"first feature\",\n",
    "#    ylabel=\"second feature\",\n",
    "#)\n",
    "#plt.legend()\n",
    "#plt.show()"
   ]
  },
  {
   "cell_type": "code",
   "execution_count": null,
   "metadata": {},
   "outputs": [
    {
     "name": "stdout",
     "output_type": "stream",
     "text": [
      "[1.5198561e+02 1.3453784e+02 1.2953775e+02 1.1676004e+02 1.1431002e+02\n",
      " 4.1520652e-05]\n"
     ]
    }
   ],
   "source": [
    "print(pca.singular_values_)"
   ]
  },
  {
   "cell_type": "code",
   "execution_count": null,
   "metadata": {},
   "outputs": [
    {
     "name": "stdout",
     "output_type": "stream",
     "text": [
      "PCA(random_state=10)\n"
     ]
    }
   ],
   "source": [
    "pca2 = PCA(random_state=seed)\n",
    "graph = pca2.fit(PCA_activations['layers.0.0'])\n",
    "print(graph)"
   ]
  },
  {
   "cell_type": "code",
   "execution_count": null,
   "metadata": {},
   "outputs": [
    {
     "name": "stdout",
     "output_type": "stream",
     "text": [
      "{'layers.0.0': array([[-2.1707344e+01, -1.2113386e+02, -3.2977287e+01,  1.6851707e+02,\n",
      "        -2.6765476e+01,  1.0878677e-02],\n",
      "       [-1.2197134e+02, -1.1759546e+01, -1.4020808e+02, -1.0499556e+02,\n",
      "        -1.9099089e+01,  1.0878062e-02],\n",
      "       [-7.2329514e+01, -5.7997044e+01,  1.6194826e+02, -5.5723648e+01,\n",
      "         8.7933571e+01,  1.0877628e-02],\n",
      "       [-4.5620720e+01,  1.9023410e+02,  3.9837315e+01,  7.0893242e+01,\n",
      "        -4.2835846e+01,  1.0877129e-02],\n",
      "       [ 1.3570551e+02,  3.4418690e+01, -7.0334824e+01, -2.8729482e+00,\n",
      "         1.4388763e+02,  1.0875755e-02],\n",
      "       [ 1.2597929e+02, -3.3742943e+01,  4.1742306e+01, -7.5844055e+01,\n",
      "        -1.4312596e+02,  1.0875243e-02]], dtype=float32), 'layers.0.1': array([[-9.1298241e+01, -1.2664704e+02,  1.5656744e+01,  1.9698540e+02,\n",
      "        -1.4403738e+02,  2.7895514e-02],\n",
      "       [ 1.2955975e+02, -9.4451500e+01,  2.0136656e+02, -1.3450052e+02,\n",
      "        -4.4117939e+01,  2.7893543e-02],\n",
      "       [ 3.2490219e+01, -1.6514983e+02, -1.4977782e+02, -1.9786827e+01,\n",
      "         1.8324115e+02,  2.7892262e-02],\n",
      "       [ 2.0941034e+02,  1.6820433e+02, -9.6291954e+01,  7.3294540e+01,\n",
      "        -5.0380524e+01,  2.7887918e-02],\n",
      "       [-1.2192330e+02,  1.4720528e+02,  1.3646368e+02,  6.4063194e+01,\n",
      "         1.6267441e+02,  2.7881807e-02],\n",
      "       [-1.5831642e+02,  7.0970215e+01, -1.0743913e+02, -1.8011592e+02,\n",
      "        -1.0735476e+02,  2.7880058e-02]], dtype=float32), 'layers.0.2': array([[-1.6113597e+02, -1.6714557e+02, -4.8562244e+01,  2.0738242e+02,\n",
      "        -1.5615410e+02,  4.1401856e-02],\n",
      "       [ 1.1385716e+02, -1.6398128e+02, -2.1020345e+02, -2.0106244e+02,\n",
      "         7.6184115e+00,  4.1396555e-02],\n",
      "       [-4.1745224e+01, -1.3070157e+02,  2.2056348e+02, -1.6481215e+01,\n",
      "         2.3270992e+02,  4.1392785e-02],\n",
      "       [ 3.0264252e+02,  8.7498909e+01,  7.0206467e+01,  1.3979756e+02,\n",
      "        -6.0045933e+01,  4.1387506e-02],\n",
      "       [-1.0892516e+02,  2.3195100e+02, -1.7173552e+02,  6.4975220e+01,\n",
      "         1.5960779e+02,  4.1376833e-02],\n",
      "       [-1.0472622e+02,  1.4260492e+02,  1.3977652e+02, -1.9469704e+02,\n",
      "        -1.8374434e+02,  4.1371252e-02]], dtype=float32), 'layers.1.0': array([[ 2.31745033e+01, -1.16678352e+02, -1.09195473e+02,\n",
      "        -1.25780960e+02,  1.90351892e+00,  1.02611957e-02],\n",
      "       [-9.02799606e+01, -6.19257507e+01,  1.51140900e+02,\n",
      "        -2.18177853e+01,  8.35754089e+01,  1.02608893e-02],\n",
      "       [-6.47071762e+01, -7.04521484e+01, -3.47824478e+01,\n",
      "         1.38402832e+02, -1.04893951e+02,  1.02604954e-02],\n",
      "       [-1.10489334e+02,  1.62367874e+02, -6.41182861e+01,\n",
      "        -3.76409607e+01,  7.54815865e+00,  1.02597978e-02],\n",
      "       [ 1.20712112e+02,  5.90841522e+01,  9.55563278e+01,\n",
      "        -4.64278908e+01, -1.12785484e+02,  1.02585433e-02],\n",
      "       [ 1.21633530e+02,  2.76428528e+01, -3.85939369e+01,\n",
      "         9.32829971e+01,  1.24655121e+02,  1.02582695e-02]], dtype=float32), 'layers.1.1': array([[-6.64605103e+01,  1.23079063e+02, -6.06132812e+01,\n",
      "        -1.23667175e+02, -4.91000938e+01,  1.18788583e-02],\n",
      "       [ 7.71637039e+01,  3.42915840e+01,  1.80825378e+02,\n",
      "        -3.47822456e+01,  3.40348625e+01,  1.18777994e-02],\n",
      "       [ 4.49188080e+01,  1.05304314e+02, -5.22042923e+01,\n",
      "         1.54393585e+02,  1.54456120e+01,  1.18776159e-02],\n",
      "       [ 1.56447144e+02, -1.02792732e+02, -8.81454926e+01,\n",
      "        -4.67907295e+01, -2.08721027e+01,  1.18765691e-02],\n",
      "       [-1.02059135e+02, -8.95505142e+01,  4.62715683e+01,\n",
      "         5.60535126e+01, -1.32970215e+02,  1.18751619e-02],\n",
      "       [-1.10040398e+02, -7.03911591e+01, -2.61354256e+01,\n",
      "        -5.18735838e+00,  1.53477448e+02,  1.18745035e-02]], dtype=float32), 'layers.1.2': array([[-6.13682289e+01, -8.68650742e+01, -1.25529022e+02,\n",
      "        -1.13536705e+02, -6.87835312e+01,  1.16158286e-02],\n",
      "       [ 8.62768631e+01, -1.25470619e+02,  1.34394867e+02,\n",
      "        -4.90399780e+01,  5.45499268e+01,  1.16149345e-02],\n",
      "       [ 5.54764366e+01, -5.79571304e+01, -8.81779633e+01,\n",
      "         1.70457596e+02,  1.03850355e+01,  1.16147241e-02],\n",
      "       [ 1.46916733e+02,  1.51183197e+02, -2.00375195e+01,\n",
      "        -4.98767548e+01, -3.62139893e+01,  1.16138635e-02],\n",
      "       [-1.14992386e+02,  4.33887520e+01,  1.12793724e+02,\n",
      "         5.49353027e+01, -1.20730988e+02,  1.16125047e-02],\n",
      "       [-1.12343895e+02,  7.57695770e+01, -1.34178305e+01,\n",
      "        -1.29241905e+01,  1.60812912e+02,  1.16118649e-02]], dtype=float32), 'layers.1.3': array([[-6.34541664e+01, -6.98178177e+01, -1.10732765e+02,\n",
      "        -1.16046112e+02, -3.89423981e+01,  1.05056865e-02],\n",
      "       [ 7.01885147e+01, -1.15999031e+02,  1.19411705e+02,\n",
      "        -3.56583633e+01,  5.98757668e+01,  1.05048753e-02],\n",
      "       [ 4.40369759e+01, -6.15991859e+01, -8.03897552e+01,\n",
      "         1.49552063e+02, -2.36695766e+01,  1.05046947e-02],\n",
      "       [ 1.43298126e+02,  1.26526642e+02, -1.99636135e+01,\n",
      "        -4.67313538e+01, -2.33220444e+01,  1.05040455e-02],\n",
      "       [-9.79788208e+01,  4.44960442e+01,  1.03773247e+02,\n",
      "         2.66550941e+01, -1.16666405e+02,  1.05027100e-02],\n",
      "       [-9.61198044e+01,  7.64374619e+01, -1.20751238e+01,\n",
      "         2.22479992e+01,  1.42740021e+02,  1.05020329e-02]], dtype=float32), 'layers.2.0': array([[-1.9971043e+01, -4.0540749e+01, -3.1218325e+01,  8.5023071e+01,\n",
      "        -7.9467192e+00,  2.2925898e-03],\n",
      "       [ 4.6810574e+01, -2.6107407e+01,  9.2578529e+01,  4.8357139e+00,\n",
      "         7.9877939e+00,  2.2925213e-03],\n",
      "       [ 1.8300812e+01, -6.5251892e+01, -4.5244629e+01, -6.3014820e+01,\n",
      "        -1.1744586e+01,  2.2925062e-03],\n",
      "       [ 7.5689903e+01,  7.0681465e+01, -3.7058651e+01,  7.3399768e+00,\n",
      "        -1.3811545e-01,  2.2924317e-03],\n",
      "       [-5.7722588e+01,  2.2472170e+01, -4.1277757e-01, -1.6431828e+01,\n",
      "         8.1626488e+01,  2.2923097e-03],\n",
      "       [-6.3115562e+01,  3.8755859e+01,  2.1357094e+01, -1.7758059e+01,\n",
      "        -6.9784119e+01,  2.2922941e-03]], dtype=float32), 'layers.2.1': array([[-3.01439171e+01,  5.52477884e+00,  4.83913193e+01,\n",
      "        -5.73663254e+01, -5.49325066e+01,  2.12792959e-03],\n",
      "       [ 5.11143570e+01,  8.64265976e+01, -2.79180374e+01,\n",
      "        -9.30259895e+00,  8.68461323e+00,  2.12791166e-03],\n",
      "       [ 1.01705837e+01, -9.99054387e-02,  7.41593094e+01,\n",
      "         6.12928772e+01,  2.15917511e+01,  2.12784228e-03],\n",
      "       [ 7.68709564e+01, -7.04707870e+01, -2.24018250e+01,\n",
      "        -1.28881235e+01, -6.49251652e+00,  2.12779269e-03],\n",
      "       [-5.52141495e+01, -1.56692629e+01, -1.62004623e+01,\n",
      "        -3.24836273e+01,  7.27874069e+01,  2.12772749e-03],\n",
      "       [-5.28041763e+01, -5.71746540e+00, -5.60377960e+01,\n",
      "         5.07529335e+01, -4.16367111e+01,  2.12765206e-03]], dtype=float32), 'layers.2.2': array([[-3.0457672e+01, -2.4571987e+01, -4.3057446e+01, -6.9360077e+01,\n",
      "        -3.3460087e+01,  2.2022687e-03],\n",
      "       [ 5.8691002e+01, -5.8160595e+01,  5.9495220e+01, -1.2895612e+01,\n",
      "         1.1562371e+01,  2.2022503e-03],\n",
      "       [ 6.9069033e+00, -3.5483814e+01, -5.2568085e+01,  7.0217537e+01,\n",
      "        -1.6445360e+01,  2.2021718e-03],\n",
      "       [ 7.0039886e+01,  7.4673813e+01, -2.0148695e+01, -9.6482983e+00,\n",
      "         2.3623385e+00,  2.2021111e-03],\n",
      "       [-5.1479012e+01,  8.5652962e+00, -2.7398024e+00,  4.4610158e-02,\n",
      "         8.2076538e+01,  2.2020487e-03],\n",
      "       [-5.3707760e+01,  3.4986206e+01,  5.9023323e+01,  2.1647072e+01,\n",
      "        -4.6094334e+01,  2.2019686e-03]], dtype=float32), 'layers.2.3': array([[-2.7146898e+01, -1.8824554e+01, -4.9070694e+01, -6.4977585e+01,\n",
      "        -2.4079830e+01,  1.9570163e-03],\n",
      "       [ 4.7672398e+01,  8.1019936e+01,  2.7919257e+00, -1.6674076e+01,\n",
      "         1.0459855e+01,  1.9569676e-03],\n",
      "       [ 1.0720147e+01, -6.4784436e+00, -5.6061092e+01,  6.7208458e+01,\n",
      "        -1.8792921e+01,  1.9569327e-03],\n",
      "       [ 6.9903175e+01, -5.8727055e+01,  3.6811607e+01, -7.8286605e+00,\n",
      "         3.3647194e+00,  1.9568726e-03],\n",
      "       [-4.8295666e+01, -8.7170382e+00,  5.8568687e+00,  7.7186928e+00,\n",
      "         7.6582047e+01,  1.9568112e-03],\n",
      "       [-5.2858543e+01,  1.1725250e+01,  5.9680405e+01,  1.4557801e+01,\n",
      "        -4.7532524e+01,  1.9567532e-03]], dtype=float32), 'layers.2.4': array([[-2.1026226e+01, -3.5323326e+01,  1.8814798e+01, -4.5118362e+01,\n",
      "        -5.7773212e+01,  2.1953154e-03],\n",
      "       [ 4.7006542e+01,  6.8336777e+01,  2.4666943e+01, -2.9889566e+01,\n",
      "         5.8876672e+00,  2.1952605e-03],\n",
      "       [ 8.6670723e+00, -2.4394262e+01,  6.0627354e+01,  5.6864285e+01,\n",
      "         9.2468958e+00,  2.1952181e-03],\n",
      "       [ 6.4184982e+01, -3.5780258e+01, -5.7163475e+01,  8.6812563e+00,\n",
      "         3.2695408e+00,  2.1951497e-03],\n",
      "       [-4.7614128e+01, -1.5374799e+01, -7.0781813e+00, -3.0111887e+01,\n",
      "         6.5191116e+01,  2.1950474e-03],\n",
      "       [-5.1225647e+01,  4.2538574e+01, -3.9875523e+01,  3.9579189e+01,\n",
      "        -2.5817274e+01,  2.1949739e-03]], dtype=float32), 'layers.2.5': array([[-1.2575807e+01, -1.9693951e+01,  1.7034197e+01,  5.0468094e+01,\n",
      "        -4.2898430e+01,  1.2659706e-03],\n",
      "       [ 3.5776592e+01,  6.3950920e+01,  5.0523009e+00,  1.8797720e+01,\n",
      "         1.3214506e+01,  1.2659431e-03],\n",
      "       [ 3.2479305e+00, -1.1706333e+01,  6.0809971e+01, -4.1128456e+01,\n",
      "         1.9634467e+00,  1.2659275e-03],\n",
      "       [ 5.5960842e+01, -3.8022335e+01, -3.7785725e+01, -1.2757888e+01,\n",
      "        -1.6152380e+00,  1.2659052e-03],\n",
      "       [-3.7859848e+01, -1.8829906e+01, -8.9005613e+00,  1.8569689e+01,\n",
      "         5.6601856e+01,  1.2658534e-03],\n",
      "       [-4.4554077e+01,  2.4301426e+01, -3.6214550e+01, -3.3952641e+01,\n",
      "        -2.7263472e+01,  1.2658385e-03]], dtype=float32), 'layers.3.0': array([[ 2.0333903e+00, -1.8190821e+01,  2.8658188e+01,  1.1006387e+02,\n",
      "        -1.7376925e+00,  2.0300467e-05],\n",
      "       [ 8.5840302e+01,  6.3846622e+01,  3.4835640e+01, -2.6184490e+01,\n",
      "        -4.5270847e+01,  2.0300469e-05],\n",
      "       [-4.8088100e+01, -6.8840408e+01,  7.0802612e+01, -5.0606228e+01,\n",
      "        -9.0449123e+00,  2.0300464e-05],\n",
      "       [ 6.6339706e+01, -6.9607895e+01, -6.6664909e+01, -1.6879181e+01,\n",
      "         3.3092537e+01,  2.0300475e-05],\n",
      "       [-6.9820198e+01,  2.2897800e+01, -6.9322502e+01, -3.4282064e+00,\n",
      "        -6.2446327e+01,  2.0300455e-05],\n",
      "       [-3.6305122e+01,  6.9894691e+01,  1.6909248e+00, -1.2965764e+01,\n",
      "         8.5407211e+01,  2.0300464e-05]], dtype=float32), 'layers.3.1': array([[-1.6644756e+01,  6.4574723e+00, -7.2281271e-01, -4.1452446e+01,\n",
      "         8.3643044e+01,  1.8792172e-05],\n",
      "       [ 9.3179428e+01,  1.6585945e+01,  1.9996674e+01, -4.0387066e+01,\n",
      "        -2.8690210e+01,  1.8792171e-05],\n",
      "       [-6.5915550e+01,  8.1469917e+00,  7.5875755e+01, -3.2610598e+00,\n",
      "        -3.1668758e+01,  1.8792171e-05],\n",
      "       [-1.2824700e+01,  8.1877380e+01, -4.8073776e+01,  3.8653999e+01,\n",
      "        -9.8460722e+00,  1.8792178e-05],\n",
      "       [-3.1512218e+01, -6.0730907e+01, -6.2806126e+01, -2.7410295e+01,\n",
      "        -3.5335247e+01,  1.8792172e-05],\n",
      "       [ 3.3717800e+01, -5.2336899e+01,  1.5730282e+01,  7.3856842e+01,\n",
      "         2.1897255e+01,  1.8792172e-05]], dtype=float32), 'layers.3.2': array([[-3.6682659e+01, -8.9987364e+00,  3.6361385e+01, -1.1352335e+01,\n",
      "         9.4425941e+01,  1.6950737e-05],\n",
      "       [ 1.0823133e+02,  3.3573006e+01, -4.1952367e+00, -5.9808681e+01,\n",
      "        -2.6036489e+00,  1.6950737e-05],\n",
      "       [-8.0694603e+01,  8.8726044e+01, -3.1807812e+01, -7.6837959e+00,\n",
      "        -2.6039656e+01,  1.6950737e-05],\n",
      "       [-2.5144852e+01, -4.3724640e+01,  8.5307060e+01, -9.5652971e+00,\n",
      "        -5.8280087e+01,  1.6950733e-05],\n",
      "       [-1.6826563e+01, -8.3201569e+01, -8.4557869e+01, -9.9625359e+00,\n",
      "        -8.2773714e+00,  1.6950737e-05],\n",
      "       [ 5.1117344e+01,  1.3625891e+01, -1.1075544e+00,  9.8372589e+01,\n",
      "         7.7481139e-01,  1.6950737e-05]], dtype=float32)}\n"
     ]
    }
   ],
   "source": [
    "print(PCA_activations)"
   ]
  },
  {
   "cell_type": "code",
   "execution_count": null,
   "metadata": {},
   "outputs": [],
   "source": [
    "import numpy as np \n",
    "from sklearn.datasets import load_iris\n",
    "from sklearn.model_selection import KFold\n",
    "from sklearn.svm import SVC\n",
    "\n",
    "npa = np.array"
   ]
  },
  {
   "cell_type": "code",
   "execution_count": 85,
   "metadata": {},
   "outputs": [
    {
     "name": "stdout",
     "output_type": "stream",
     "text": [
      "<class 'numpy.ndarray'>\n",
      "(150, 4) (150,)\n",
      "[0 0 0 0 0 0 0 0 0 0 0 0 0 0 0 0 0 0 0 0 0 0 0 0 0 0 0 0 0 0 0 0 0 0 0 0 0\n",
      " 0 0 0 0 0 0 0 0 0 0 0 0 0 1 1 1 1 1 1 1 1 1 1 1 1 1 1 1 1 1 1 1 1 1 1 1 1\n",
      " 1 1 1 1 1 1 1 1 1 1 1 1 1 1 1 1 1 1 1 1 1 1 1 1 1 1 2 2 2 2 2 2 2 2 2 2 2\n",
      " 2 2 2 2 2 2 2 2 2 2 2 2 2 2 2 2 2 2 2 2 2 2 2 2 2 2 2 2 2 2 2 2 2 2 2 2 2\n",
      " 2 2]\n"
     ]
    }
   ],
   "source": [
    "data = load_iris()\n",
    "X = data.data\n",
    "Y = data.target\n",
    "print(type(data.target))\n",
    "print(X.shape, Y.shape)\n",
    "print(Y)"
   ]
  },
  {
   "cell_type": "code",
   "execution_count": 82,
   "metadata": {},
   "outputs": [
    {
     "name": "stdout",
     "output_type": "stream",
     "text": [
      "Accuracy: 97.33%\n"
     ]
    }
   ],
   "source": [
    "N_FOLDS = 5\n",
    "\n",
    "kf = KFold(n_splits=N_FOLDS,shuffle=True)\n",
    "clf = SVC(kernel='linear')\n",
    "preds = np.zeros_like(Y)\n",
    "for train_index, test_index in kf.split(X):\n",
    "    clf.fit(X[train_index], Y[train_index])\n",
    "    preds[test_index] = clf.predict(X[test_index])\n",
    "print(f\"Accuracy: {100*np.sum(preds == Y)/preds.size:.2f}%\")"
   ]
  },
  {
   "cell_type": "code",
   "execution_count": null,
   "metadata": {},
   "outputs": [
    {
     "name": "stdout",
     "output_type": "stream",
     "text": [
      "Predictions: [0 0 0 0 0 0 0 0 0 0 0 0 0 0 0 0 0 0 0 0 0 0 0 0 0 0 0 0 0 0 0 0 0 0 0 0 0\n",
      " 0 0 0 0 0 0 0 0 0 0 0 0 0 1 1 1 1 1 1 1 1 1 1 1 1 1 1 1 1 1 1 1 1 2 1 1 1\n",
      " 1 1 1 1 1 1 1 1 1 2 1 1 1 1 1 1 1 1 1 1 1 1 1 1 1 1 2 2 2 2 2 2 1 2 2 2 2\n",
      " 2 2 2 2 2 2 2 2 2 2 2 2 2 2 2 2 2 2 2 2 2 2 2 2 2 2 2 1 2 2 2 2 2 2 2 2 2\n",
      " 2 2]\n",
      "Targets: [0 0 0 0 0 0 0 0 0 0 0 0 0 0 0 0 0 0 0 0 0 0 0 0 0 0 0 0 0 0 0 0 0 0 0 0 0\n",
      " 0 0 0 0 0 0 0 0 0 0 0 0 0 1 1 1 1 1 1 1 1 1 1 1 1 1 1 1 1 1 1 1 1 1 1 1 1\n",
      " 1 1 1 1 1 1 1 1 1 1 1 1 1 1 1 1 1 1 1 1 1 1 1 1 1 1 2 2 2 2 2 2 2 2 2 2 2\n",
      " 2 2 2 2 2 2 2 2 2 2 2 2 2 2 2 2 2 2 2 2 2 2 2 2 2 2 2 2 2 2 2 2 2 2 2 2 2\n",
      " 2 2]\n"
     ]
    }
   ],
   "source": [
    "print(f\"Predictions: {preds}\")\n",
    "print(f\"Targets: {Y}\")"
   ]
  },
  {
   "cell_type": "code",
   "execution_count": null,
   "metadata": {},
   "outputs": [],
   "source": [
    "\n",
    "\n"
   ]
  }
 ],
 "metadata": {
  "kernelspec": {
   "display_name": "Python 3.9.12 ('base')",
   "language": "python",
   "name": "python3"
  },
  "language_info": {
   "codemirror_mode": {
    "name": "ipython",
    "version": 3
   },
   "file_extension": ".py",
   "mimetype": "text/x-python",
   "name": "python",
   "nbconvert_exporter": "python",
   "pygments_lexer": "ipython3",
   "version": "3.10.4"
  },
  "orig_nbformat": 4,
  "vscode": {
   "interpreter": {
    "hash": "c7902efd29b823f1ec969c051ff0be7b8dde424cad8e442b1290738451ded8ca"
   }
  }
 },
 "nbformat": 4,
 "nbformat_minor": 2
}
